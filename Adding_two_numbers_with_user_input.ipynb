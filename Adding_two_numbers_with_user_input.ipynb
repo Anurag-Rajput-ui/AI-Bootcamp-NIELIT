{
  "nbformat": 4,
  "nbformat_minor": 0,
  "metadata": {
    "colab": {
      "provenance": []
    },
    "kernelspec": {
      "name": "python3",
      "display_name": "Python 3"
    },
    "language_info": {
      "name": "python"
    }
  },
  "cells": [
    {
      "cell_type": "code",
      "execution_count": 2,
      "metadata": {
        "colab": {
          "base_uri": "https://localhost:8080/"
        },
        "id": "ySRCtB9PltgX",
        "outputId": "f4c60da0-ac24-45d0-a929-a09c6ce0433f"
      },
      "outputs": [
        {
          "output_type": "stream",
          "name": "stdout",
          "text": [
            "Enter the first number: 1\n",
            "Enter the second number: 2\n",
            "The sum of 1.0 and 2.0 is: 3.0\n"
          ]
        }
      ],
      "source": [
        "num1 = float(input(\"Enter the first number: \"))\n",
        "num2 = float(input(\"Enter the second number: \"))\n",
        "sum_result = num1 + num2\n",
        "print(\"The sum of\", num1, \"and\", num2, \"is:\", sum_result)"
      ]
    }
  ]
}
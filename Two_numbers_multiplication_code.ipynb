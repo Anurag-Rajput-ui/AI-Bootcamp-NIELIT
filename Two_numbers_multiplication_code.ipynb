{
  "nbformat": 4,
  "nbformat_minor": 0,
  "metadata": {
    "colab": {
      "provenance": []
    },
    "kernelspec": {
      "name": "python3",
      "display_name": "Python 3"
    },
    "language_info": {
      "name": "python"
    }
  },
  "cells": [
    {
      "cell_type": "code",
      "execution_count": 1,
      "metadata": {
        "id": "-5aeRt_Pq1Tg",
        "colab": {
          "base_uri": "https://localhost:8080/"
        },
        "outputId": "34cbd661-5b1f-4e12-c51d-adaeecfb59d9"
      },
      "outputs": [
        {
          "output_type": "stream",
          "name": "stdout",
          "text": [
            "Enter the first number: 24\n",
            "Enter the second number: 24\n",
            "The product of 24.0 and 24.0 is: 576.0\n"
          ]
        }
      ],
      "source": [
        "num1 = float(input(\"Enter the first number: \"))\n",
        "num2 = float(input(\"Enter the second number: \"))\n",
        "\n",
        "product = num1*num2\n",
        "print(\"The product of\", num1, \"and\", num2, \"is:\", product)"
      ]
    }
  ]
}